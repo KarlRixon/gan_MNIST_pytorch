{
 "cells": [
  {
   "cell_type": "code",
   "execution_count": 1,
   "metadata": {},
   "outputs": [],
   "source": [
    "import torch\n",
    "import torch.nn as nn\n",
    "import torch.nn.functional as F\n",
    "import torch.optim as optim\n",
    "import torchvision\n",
    "from torchvision import datasets, transforms\n",
    "from torch.autograd import Variable\n",
    "from torchvision.utils import save_image\n",
    "import numpy as np\n",
    "import matplotlib.pyplot as plt\n",
    "from matplotlib.pyplot import imshow, imsave\n",
    "%matplotlib inline\n",
    "\n",
    "device = torch.device('cuda' if torch.cuda.is_available() else 'cpu')"
   ]
  },
  {
   "cell_type": "code",
   "execution_count": 2,
   "metadata": {},
   "outputs": [],
   "source": [
    "bs = 100\n",
    "\n",
    "transform = transforms.Compose([\n",
    "    transforms.ToTensor(),\n",
    "    transforms.Normalize(mean=[0.5], std=[0.5])\n",
    "])\n",
    "\n",
    "train_dataset = datasets.MNIST(root='../data/', train=True, transform=transform, download=True)\n",
    "\n",
    "train_loader = torch.utils.data.DataLoader(dataset=train_dataset, batch_size=bs, shuffle=True)"
   ]
  },
  {
   "cell_type": "code",
   "execution_count": 3,
   "metadata": {},
   "outputs": [],
   "source": [
    "class Generator(nn.Module):\n",
    "    def __init__(self, g_input_dim, g_output_dim):\n",
    "        super(Generator, self).__init__()\n",
    "        self.fc1 = nn.Linear(g_input_dim, 256)\n",
    "        self.fc2 = nn.Linear(self.fc1.out_features, self.fc1.out_features*2)\n",
    "        self.fc3 = nn.Linear(self.fc2.out_features, self.fc2.out_features*2)\n",
    "        self.fc4 = nn.Linear(self.fc3.out_features, g_output_dim)\n",
    "        \n",
    "    def forward(self, x):\n",
    "        x = F.leaky_relu(self.fc1(x), 0.2)\n",
    "        x = F.leaky_relu(self.fc2(x), 0.2)\n",
    "        x = F.leaky_relu(self.fc3(x), 0.2)\n",
    "        return torch.tanh(self.fc4(x))\n",
    "    \n",
    "class Discriminator(nn.Module):\n",
    "    def __init__(self, d_input_dim):\n",
    "        super(Discriminator, self).__init__()\n",
    "        self.fc1 = nn.Linear(d_input_dim, 1024)\n",
    "        self.fc2 = nn.Linear(self.fc1.out_features, self.fc1.out_features//2)\n",
    "        self.fc3 = nn.Linear(self.fc2.out_features, self.fc2.out_features//2)\n",
    "        self.fc4 = nn.Linear(self.fc3.out_features, 1)\n",
    "        \n",
    "    def forward(self, x):\n",
    "        x = F.leaky_relu(self.fc1(x), 0.2)\n",
    "        x = F.dropout(x, 0.3)\n",
    "        x = F.leaky_relu(self.fc2(x), 0.2)\n",
    "        x = F.dropout(x, 0.3)\n",
    "        x = F.leaky_relu(self.fc3(x), 0.2)\n",
    "        x = F.dropout(x, 0.3)\n",
    "        return torch.sigmoid(self.fc4(x))"
   ]
  },
  {
   "cell_type": "code",
   "execution_count": 4,
   "metadata": {},
   "outputs": [
    {
     "name": "stderr",
     "output_type": "stream",
     "text": [
      "D:\\anaconda\\envs\\tensorflow-gpu\\lib\\site-packages\\torchvision\\datasets\\mnist.py:53: UserWarning: train_data has been renamed data\n",
      "  warnings.warn(\"train_data has been renamed data\")\n"
     ]
    }
   ],
   "source": [
    "z_dim = 100\n",
    "mnist_dim = train_dataset.train_data.size(1)*train_dataset.train_data.size(2)\n",
    "\n",
    "G = Generator(g_input_dim=z_dim, g_output_dim=mnist_dim).to(device)\n",
    "D = Discriminator(mnist_dim).to(device)"
   ]
  },
  {
   "cell_type": "code",
   "execution_count": 5,
   "metadata": {
    "scrolled": true
   },
   "outputs": [
    {
     "data": {
      "text/plain": [
       "Generator(\n",
       "  (fc1): Linear(in_features=100, out_features=256, bias=True)\n",
       "  (fc2): Linear(in_features=256, out_features=512, bias=True)\n",
       "  (fc3): Linear(in_features=512, out_features=1024, bias=True)\n",
       "  (fc4): Linear(in_features=1024, out_features=784, bias=True)\n",
       ")"
      ]
     },
     "execution_count": 5,
     "metadata": {},
     "output_type": "execute_result"
    }
   ],
   "source": [
    "G"
   ]
  },
  {
   "cell_type": "code",
   "execution_count": 6,
   "metadata": {
    "scrolled": true
   },
   "outputs": [
    {
     "data": {
      "text/plain": [
       "Discriminator(\n",
       "  (fc1): Linear(in_features=784, out_features=1024, bias=True)\n",
       "  (fc2): Linear(in_features=1024, out_features=512, bias=True)\n",
       "  (fc3): Linear(in_features=512, out_features=256, bias=True)\n",
       "  (fc4): Linear(in_features=256, out_features=1, bias=True)\n",
       ")"
      ]
     },
     "execution_count": 6,
     "metadata": {},
     "output_type": "execute_result"
    }
   ],
   "source": [
    "D"
   ]
  },
  {
   "cell_type": "code",
   "execution_count": 7,
   "metadata": {},
   "outputs": [],
   "source": [
    "# loss\n",
    "criterion = nn.BCELoss()\n",
    "\n",
    "# optimizer\n",
    "lr = 0.001\n",
    "G_optimizer = optim.Adam(G.parameters(), lr=lr, betas=(0.5, 0.999))\n",
    "D_optimizer = optim.Adam(D.parameters(), lr=lr, betas=(0.5, 0.999))"
   ]
  },
  {
   "cell_type": "code",
   "execution_count": 8,
   "metadata": {},
   "outputs": [],
   "source": [
    "def D_train(x):\n",
    "    D.zero_grad()\n",
    "    \n",
    "    # train discriminator on real\n",
    "    x_real, y_real = x.view(-1, mnist_dim), torch.ones(bs, 1)\n",
    "    x_real, y_real = Variable(x_real.to(device)), Variable(y_real.to(device))\n",
    "    \n",
    "    D_output = D(x_real)\n",
    "    D_real_loss = criterion(D_output, y_real)\n",
    "    D_real_score = D_output\n",
    "    \n",
    "    # train discriminator on fake\n",
    "    z = Variable(torch.randn(bs, z_dim).to(device))\n",
    "    x_fake, y_fake = G(z), Variable(torch.zeros(bs, 1).to(device))\n",
    "    \n",
    "    D_output = D(x_fake)\n",
    "    D_fake_loss = criterion(D_output, y_fake)\n",
    "    D_fake_score = D_output\n",
    "    \n",
    "    # gradient backprop & optimize ONLY D's parameters\n",
    "    D_loss = D_real_loss + D_fake_loss\n",
    "    D_loss.backward()\n",
    "    D_optimizer.step()\n",
    "    \n",
    "    return D_loss.data.item(), torch.mean(D_real_score).data.item(), torch.mean(D_fake_score).data.item()"
   ]
  },
  {
   "cell_type": "code",
   "execution_count": 9,
   "metadata": {},
   "outputs": [],
   "source": [
    "def G_train(x):\n",
    "    G.zero_grad()\n",
    "    \n",
    "    z = Variable(torch.randn(bs, z_dim).to(device))\n",
    "    y = Variable(torch.ones(bs, 1).to(device))\n",
    "    \n",
    "    G_output = G(z)\n",
    "    D_output = D(G_output)\n",
    "    G_loss = criterion(D_output, y)\n",
    "    \n",
    "    # gradient backprop & optimize ONLY G's parameters\n",
    "    G_loss.backward()\n",
    "    G_optimizer.step()\n",
    "    \n",
    "    return G_loss.data.item()"
   ]
  },
  {
   "cell_type": "code",
   "execution_count": 10,
   "metadata": {},
   "outputs": [],
   "source": [
    "# # set up tensorboard\n",
    "# from torch.utils.tensorboard import SummaryWriter\n",
    "\n",
    "# # default `log_dir` is \"runs\" - we'll be more specific here\n",
    "# writer = SummaryWriter('runs/mnist')\n",
    "\n",
    "# # writing to tensorboard\n",
    "# # get some random training images\n",
    "# dataiter = iter(train_loader)\n",
    "# images, labels = dataiter.next()\n",
    "\n",
    "# # create grid of images\n",
    "# img_grid = torchvision.utils.make_grid(images, 10)\n",
    "\n",
    "# # write to tensorboard\n",
    "# writer.add_image('mnist_images', img_grid)\n",
    "\n",
    "# # show images\n",
    "# img_grid = img_grid.mean(dim=0)\n",
    "# img_grid = img_grid / 2 + 0.5     # unnormalize\n",
    "# npimg = img_grid.numpy()\n",
    "# plt.imshow(npimg, cmap=\"Greys\")\n",
    "\n",
    "# # tensorboard --logdir=runs --port=6006 --host=localhost\n",
    "# # Inspect the model using TensorBoard\n",
    "# writer.add_graph(Discriminator(784), images)\n",
    "# writer.add_graph(Generator(100, 784), images)\n",
    "# writer.close()"
   ]
  },
  {
   "cell_type": "code",
   "execution_count": 11,
   "metadata": {},
   "outputs": [],
   "source": [
    "# Adding a “Projector” to TensorBoard\n",
    "# def select_n_random(data, labels, n=100):\n",
    "#     assert len(data) == len(labels)\n",
    "#     perm = torch.randperm(len(data))\n",
    "#     return data[perm][:n], labels[perm][:n]\n",
    "\n",
    "# # select random images and their target indices\n",
    "# images, labels = select_n_random(train_dataset.data, train_dataset.targets)\n",
    "\n",
    "# # get the class labels for each image\n",
    "# # constant for classes\n",
    "# classes = ('0', '1', '2', '3', '4', '5', '6', '7', '8', '9')\n",
    "# class_labels = [classes[lab] for lab in labels]\n",
    "\n",
    "# # log embeddings\n",
    "# features = images.view(-1, 28 * 28)\n",
    "# writer.add_embedding(features,\n",
    "#                     metadata=class_labels,\n",
    "#                     label_img=images.unsqueeze(1))\n",
    "# writer.close()"
   ]
  },
  {
   "cell_type": "code",
   "execution_count": 12,
   "metadata": {},
   "outputs": [],
   "source": [
    "n_epoch = 20\n",
    "D_losses, G_losses = [], []\n",
    "real_scores, fake_scores = [], []\n",
    "a_D_l, a_G_l, a_D_rs, a_D_fs = 0., 0., 0., 0.\n",
    "fixed_noise = Variable(torch.randn(bs, z_dim).to(device))"
   ]
  },
  {
   "cell_type": "code",
   "execution_count": 13,
   "metadata": {
    "scrolled": false
   },
   "outputs": [
    {
     "name": "stdout",
     "output_type": "stream",
     "text": [
      "epoch[1/20][99/600]: loss_d: 1.084, loss_g: 1.169, D(x): 0.787, D(G(z)): 0.523\n",
      "epoch[1/20][199/600]: loss_d: 0.943, loss_g: 2.095, D(x): 0.784, D(G(z)): 0.416\n",
      "epoch[1/20][299/600]: loss_d: 0.845, loss_g: 2.718, D(x): 0.787, D(G(z)): 0.347\n",
      "epoch[1/20][399/600]: loss_d: 0.643, loss_g: 3.737, D(x): 0.835, D(G(z)): 0.255\n",
      "epoch[1/20][499/600]: loss_d: 0.496, loss_g: 4.080, D(x): 0.872, D(G(z)): 0.185\n",
      "epoch[1/20][599/600]: loss_d: 0.413, loss_g: 4.603, D(x): 0.892, D(G(z)): 0.146\n",
      "epoch[2/20][99/600]: loss_d: 0.366, loss_g: 4.790, D(x): 0.908, D(G(z)): 0.125\n",
      "epoch[2/20][199/600]: loss_d: 0.255, loss_g: 5.343, D(x): 0.934, D(G(z)): 0.086\n",
      "epoch[2/20][299/600]: loss_d: 0.223, loss_g: 5.575, D(x): 0.943, D(G(z)): 0.073\n",
      "epoch[2/20][399/600]: loss_d: 0.201, loss_g: 5.639, D(x): 0.950, D(G(z)): 0.065\n",
      "epoch[2/20][499/600]: loss_d: 0.166, loss_g: 5.948, D(x): 0.957, D(G(z)): 0.052\n",
      "epoch[2/20][599/600]: loss_d: 0.205, loss_g: 5.687, D(x): 0.954, D(G(z)): 0.064\n",
      "epoch[3/20][99/600]: loss_d: 0.188, loss_g: 5.746, D(x): 0.955, D(G(z)): 0.062\n",
      "epoch[3/20][199/600]: loss_d: 0.155, loss_g: 6.433, D(x): 0.963, D(G(z)): 0.047\n",
      "epoch[3/20][299/600]: loss_d: 0.126, loss_g: 6.480, D(x): 0.969, D(G(z)): 0.039\n",
      "epoch[3/20][399/600]: loss_d: 0.123, loss_g: 6.387, D(x): 0.970, D(G(z)): 0.036\n",
      "epoch[3/20][499/600]: loss_d: 0.102, loss_g: 6.749, D(x): 0.975, D(G(z)): 0.031\n",
      "epoch[3/20][599/600]: loss_d: 0.123, loss_g: 6.829, D(x): 0.972, D(G(z)): 0.035\n",
      "epoch[4/20][99/600]: loss_d: 0.108, loss_g: 6.766, D(x): 0.974, D(G(z)): 0.032\n",
      "epoch[4/20][199/600]: loss_d: 0.090, loss_g: 6.793, D(x): 0.978, D(G(z)): 0.027\n",
      "epoch[4/20][299/600]: loss_d: 0.102, loss_g: 6.776, D(x): 0.976, D(G(z)): 0.028\n",
      "epoch[4/20][399/600]: loss_d: 0.128, loss_g: 6.718, D(x): 0.972, D(G(z)): 0.039\n",
      "epoch[4/20][499/600]: loss_d: 0.088, loss_g: 6.840, D(x): 0.980, D(G(z)): 0.026\n",
      "epoch[4/20][599/600]: loss_d: 0.137, loss_g: 6.929, D(x): 0.971, D(G(z)): 0.039\n",
      "epoch[5/20][99/600]: loss_d: 0.091, loss_g: 6.704, D(x): 0.979, D(G(z)): 0.026\n",
      "epoch[5/20][199/600]: loss_d: 0.075, loss_g: 7.166, D(x): 0.982, D(G(z)): 0.023\n",
      "epoch[5/20][299/600]: loss_d: 0.096, loss_g: 7.575, D(x): 0.979, D(G(z)): 0.028\n",
      "epoch[5/20][399/600]: loss_d: 0.074, loss_g: 7.370, D(x): 0.983, D(G(z)): 0.021\n",
      "epoch[5/20][499/600]: loss_d: 0.077, loss_g: 7.668, D(x): 0.983, D(G(z)): 0.022\n",
      "epoch[5/20][599/600]: loss_d: 0.080, loss_g: 7.399, D(x): 0.983, D(G(z)): 0.022\n",
      "epoch[6/20][99/600]: loss_d: 0.072, loss_g: 7.668, D(x): 0.984, D(G(z)): 0.020\n",
      "epoch[6/20][199/600]: loss_d: 0.082, loss_g: 7.795, D(x): 0.983, D(G(z)): 0.022\n",
      "epoch[6/20][299/600]: loss_d: 0.066, loss_g: 7.517, D(x): 0.985, D(G(z)): 0.019\n",
      "epoch[6/20][399/600]: loss_d: 0.062, loss_g: 7.509, D(x): 0.986, D(G(z)): 0.017\n",
      "epoch[6/20][499/600]: loss_d: 0.077, loss_g: 7.541, D(x): 0.984, D(G(z)): 0.020\n",
      "epoch[6/20][599/600]: loss_d: 0.066, loss_g: 7.535, D(x): 0.985, D(G(z)): 0.019\n",
      "epoch[7/20][99/600]: loss_d: 0.063, loss_g: 7.735, D(x): 0.986, D(G(z)): 0.017\n",
      "epoch[7/20][199/600]: loss_d: 0.061, loss_g: 7.592, D(x): 0.987, D(G(z)): 0.016\n",
      "epoch[7/20][299/600]: loss_d: 0.052, loss_g: 7.699, D(x): 0.988, D(G(z)): 0.014\n",
      "epoch[7/20][399/600]: loss_d: 0.061, loss_g: 7.982, D(x): 0.987, D(G(z)): 0.016\n",
      "epoch[7/20][499/600]: loss_d: 0.046, loss_g: 7.784, D(x): 0.990, D(G(z)): 0.013\n",
      "epoch[7/20][599/600]: loss_d: 0.076, loss_g: 7.788, D(x): 0.985, D(G(z)): 0.020\n",
      "epoch[8/20][99/600]: loss_d: 0.067, loss_g: 7.639, D(x): 0.986, D(G(z)): 0.018\n",
      "epoch[8/20][199/600]: loss_d: 0.054, loss_g: 8.085, D(x): 0.988, D(G(z)): 0.015\n",
      "epoch[8/20][299/600]: loss_d: 0.050, loss_g: 8.128, D(x): 0.989, D(G(z)): 0.013\n",
      "epoch[8/20][399/600]: loss_d: 0.062, loss_g: 7.229, D(x): 0.987, D(G(z)): 0.017\n",
      "epoch[8/20][499/600]: loss_d: 0.044, loss_g: 8.768, D(x): 0.990, D(G(z)): 0.012\n",
      "epoch[8/20][599/600]: loss_d: 0.047, loss_g: 8.066, D(x): 0.990, D(G(z)): 0.013\n",
      "epoch[9/20][99/600]: loss_d: 0.052, loss_g: 7.843, D(x): 0.989, D(G(z)): 0.014\n",
      "epoch[9/20][199/600]: loss_d: 0.060, loss_g: 8.332, D(x): 0.988, D(G(z)): 0.016\n",
      "epoch[9/20][299/600]: loss_d: 0.055, loss_g: 7.997, D(x): 0.989, D(G(z)): 0.015\n",
      "epoch[9/20][399/600]: loss_d: 0.041, loss_g: 8.436, D(x): 0.991, D(G(z)): 0.012\n",
      "epoch[9/20][499/600]: loss_d: 0.048, loss_g: 8.666, D(x): 0.990, D(G(z)): 0.012\n",
      "epoch[9/20][599/600]: loss_d: 0.052, loss_g: 8.072, D(x): 0.989, D(G(z)): 0.014\n",
      "epoch[10/20][99/600]: loss_d: 0.053, loss_g: 7.952, D(x): 0.989, D(G(z)): 0.014\n",
      "epoch[10/20][199/600]: loss_d: 0.042, loss_g: 8.232, D(x): 0.992, D(G(z)): 0.011\n",
      "epoch[10/20][299/600]: loss_d: 0.042, loss_g: 7.798, D(x): 0.991, D(G(z)): 0.011\n",
      "epoch[10/20][399/600]: loss_d: 6.085, loss_g: 10.808, D(x): 0.883, D(G(z)): 0.178\n",
      "epoch[10/20][499/600]: loss_d: 0.204, loss_g: 4.810, D(x): 0.954, D(G(z)): 0.073\n",
      "epoch[10/20][599/600]: loss_d: 0.091, loss_g: 5.948, D(x): 0.978, D(G(z)): 0.028\n",
      "epoch[11/20][99/600]: loss_d: 0.064, loss_g: 6.380, D(x): 0.986, D(G(z)): 0.020\n",
      "epoch[11/20][199/600]: loss_d: 0.050, loss_g: 6.689, D(x): 0.988, D(G(z)): 0.015\n",
      "epoch[11/20][299/600]: loss_d: 0.045, loss_g: 7.188, D(x): 0.990, D(G(z)): 0.013\n",
      "epoch[11/20][399/600]: loss_d: 0.040, loss_g: 7.610, D(x): 0.991, D(G(z)): 0.012\n",
      "epoch[11/20][499/600]: loss_d: 0.044, loss_g: 7.759, D(x): 0.990, D(G(z)): 0.012\n",
      "epoch[11/20][599/600]: loss_d: 0.054, loss_g: 7.683, D(x): 0.989, D(G(z)): 0.015\n",
      "epoch[12/20][99/600]: loss_d: 0.072, loss_g: 7.461, D(x): 0.987, D(G(z)): 0.020\n",
      "epoch[12/20][199/600]: loss_d: 0.047, loss_g: 7.858, D(x): 0.989, D(G(z)): 0.014\n",
      "epoch[12/20][299/600]: loss_d: 0.040, loss_g: 8.372, D(x): 0.991, D(G(z)): 0.011\n",
      "epoch[12/20][399/600]: loss_d: 0.032, loss_g: 8.750, D(x): 0.993, D(G(z)): 0.009\n",
      "epoch[12/20][499/600]: loss_d: 0.034, loss_g: 8.745, D(x): 0.993, D(G(z)): 0.011\n",
      "epoch[12/20][599/600]: loss_d: 0.048, loss_g: 9.054, D(x): 0.991, D(G(z)): 0.011\n",
      "epoch[13/20][99/600]: loss_d: 0.046, loss_g: 8.012, D(x): 0.989, D(G(z)): 0.014\n",
      "epoch[13/20][199/600]: loss_d: 0.038, loss_g: 8.511, D(x): 0.992, D(G(z)): 0.011\n",
      "epoch[13/20][299/600]: loss_d: 0.033, loss_g: 8.809, D(x): 0.992, D(G(z)): 0.010\n",
      "epoch[13/20][399/600]: loss_d: 0.039, loss_g: 8.941, D(x): 0.992, D(G(z)): 0.010\n",
      "epoch[13/20][499/600]: loss_d: 0.031, loss_g: 8.780, D(x): 0.993, D(G(z)): 0.009\n",
      "epoch[13/20][599/600]: loss_d: 0.109, loss_g: 8.659, D(x): 0.983, D(G(z)): 0.028\n",
      "epoch[14/20][99/600]: loss_d: 0.065, loss_g: 8.230, D(x): 0.986, D(G(z)): 0.020\n",
      "epoch[14/20][199/600]: loss_d: 0.041, loss_g: 9.348, D(x): 0.991, D(G(z)): 0.011\n",
      "epoch[14/20][299/600]: loss_d: 0.043, loss_g: 9.203, D(x): 0.991, D(G(z)): 0.012\n",
      "epoch[14/20][399/600]: loss_d: 0.025, loss_g: 9.591, D(x): 0.994, D(G(z)): 0.008\n",
      "epoch[14/20][499/600]: loss_d: 0.032, loss_g: 10.131, D(x): 0.993, D(G(z)): 0.009\n",
      "epoch[14/20][599/600]: loss_d: 0.035, loss_g: 9.936, D(x): 0.992, D(G(z)): 0.010\n",
      "epoch[15/20][99/600]: loss_d: 0.039, loss_g: 10.699, D(x): 0.992, D(G(z)): 0.011\n",
      "epoch[15/20][199/600]: loss_d: 0.032, loss_g: 9.153, D(x): 0.993, D(G(z)): 0.009\n",
      "epoch[15/20][299/600]: loss_d: 0.039, loss_g: 9.969, D(x): 0.992, D(G(z)): 0.009\n",
      "epoch[15/20][399/600]: loss_d: 0.033, loss_g: 9.458, D(x): 0.993, D(G(z)): 0.010\n",
      "epoch[15/20][499/600]: loss_d: 0.034, loss_g: 8.947, D(x): 0.992, D(G(z)): 0.009\n",
      "epoch[15/20][599/600]: loss_d: 0.030, loss_g: 9.303, D(x): 0.994, D(G(z)): 0.008\n",
      "epoch[16/20][99/600]: loss_d: 0.025, loss_g: 9.323, D(x): 0.995, D(G(z)): 0.007\n",
      "epoch[16/20][199/600]: loss_d: 0.193, loss_g: 8.944, D(x): 0.973, D(G(z)): 0.041\n",
      "epoch[16/20][299/600]: loss_d: 0.041, loss_g: 8.857, D(x): 0.990, D(G(z)): 0.012\n",
      "epoch[16/20][399/600]: loss_d: 0.032, loss_g: 9.564, D(x): 0.993, D(G(z)): 0.009\n",
      "epoch[16/20][499/600]: loss_d: 0.304, loss_g: 11.381, D(x): 0.974, D(G(z)): 0.047\n",
      "epoch[16/20][599/600]: loss_d: 0.069, loss_g: 10.674, D(x): 0.985, D(G(z)): 0.019\n",
      "epoch[17/20][99/600]: loss_d: 0.049, loss_g: 11.287, D(x): 0.990, D(G(z)): 0.013\n",
      "epoch[17/20][199/600]: loss_d: 0.045, loss_g: 10.560, D(x): 0.990, D(G(z)): 0.013\n",
      "epoch[17/20][299/600]: loss_d: 0.028, loss_g: 11.231, D(x): 0.993, D(G(z)): 0.008\n",
      "epoch[17/20][399/600]: loss_d: 0.034, loss_g: 11.797, D(x): 0.993, D(G(z)): 0.010\n",
      "epoch[17/20][499/600]: loss_d: 0.032, loss_g: 11.162, D(x): 0.994, D(G(z)): 0.008\n",
      "epoch[17/20][599/600]: loss_d: 0.027, loss_g: 10.382, D(x): 0.995, D(G(z)): 0.007\n"
     ]
    },
    {
     "name": "stdout",
     "output_type": "stream",
     "text": [
      "epoch[18/20][99/600]: loss_d: 0.018, loss_g: 11.456, D(x): 0.996, D(G(z)): 0.004\n",
      "epoch[18/20][199/600]: loss_d: 0.048, loss_g: 14.026, D(x): 0.992, D(G(z)): 0.013\n",
      "epoch[18/20][299/600]: loss_d: 0.053, loss_g: 11.791, D(x): 0.990, D(G(z)): 0.013\n",
      "epoch[18/20][399/600]: loss_d: 0.053, loss_g: 10.430, D(x): 0.990, D(G(z)): 0.014\n",
      "epoch[18/20][499/600]: loss_d: 0.031, loss_g: 11.076, D(x): 0.993, D(G(z)): 0.009\n",
      "epoch[18/20][599/600]: loss_d: 0.025, loss_g: 11.060, D(x): 0.994, D(G(z)): 0.006\n",
      "epoch[19/20][99/600]: loss_d: 0.034, loss_g: 13.141, D(x): 0.994, D(G(z)): 0.008\n",
      "epoch[19/20][199/600]: loss_d: 0.031, loss_g: 10.658, D(x): 0.994, D(G(z)): 0.007\n",
      "epoch[19/20][299/600]: loss_d: 0.033, loss_g: 12.404, D(x): 0.993, D(G(z)): 0.009\n",
      "epoch[19/20][399/600]: loss_d: 0.029, loss_g: 11.374, D(x): 0.994, D(G(z)): 0.007\n",
      "epoch[19/20][499/600]: loss_d: 0.023, loss_g: 11.788, D(x): 0.995, D(G(z)): 0.006\n",
      "epoch[19/20][599/600]: loss_d: 0.042, loss_g: 13.635, D(x): 0.993, D(G(z)): 0.009\n",
      "epoch[20/20][99/600]: loss_d: 0.034, loss_g: 9.879, D(x): 0.992, D(G(z)): 0.008\n",
      "epoch[20/20][199/600]: loss_d: 0.031, loss_g: 10.681, D(x): 0.993, D(G(z)): 0.008\n",
      "epoch[20/20][299/600]: loss_d: 0.045, loss_g: 11.460, D(x): 0.991, D(G(z)): 0.011\n",
      "epoch[20/20][399/600]: loss_d: 0.030, loss_g: 9.963, D(x): 0.993, D(G(z)): 0.007\n",
      "epoch[20/20][499/600]: loss_d: 0.032, loss_g: 11.251, D(x): 0.993, D(G(z)): 0.008\n",
      "epoch[20/20][599/600]: loss_d: 0.028, loss_g: 11.024, D(x): 0.994, D(G(z)): 0.007\n"
     ]
    }
   ],
   "source": [
    "for epoch in range(1, n_epoch+1):\n",
    "    for batch_idx, (x, _) in enumerate(train_loader):\n",
    "        D_l, D_rs, D_fs = D_train(x)\n",
    "        G_l = G_train(x)\n",
    "        \n",
    "        a_D_l += D_l\n",
    "        a_G_l += G_l\n",
    "        a_D_rs += D_rs\n",
    "        a_D_fs += D_fs\n",
    "        if batch_idx % 100 == 99:\n",
    "            D_losses.append(a_D_l/100)\n",
    "            G_losses.append(a_G_l/100)\n",
    "            real_scores.append(a_D_rs/100)\n",
    "            fake_scores.append(a_D_fs/100)\n",
    "\n",
    "            # ...log the running loss\n",
    "#             writer.add_scalar('D loss',\n",
    "#                             a_D_l / 100,\n",
    "#                             epoch * len(train_loader) + batch_idx)\n",
    "#             writer.add_scalar('G loss',\n",
    "#                             a_G_l / 100,\n",
    "#                             epoch * len(train_loader) + batch_idx)\n",
    "\n",
    "            print('epoch[%d/%d][%d/%d]: loss_d: %.3f, loss_g: %.3f, D(x): %.3f, D(G(z)): %.3f' % \n",
    "                 (epoch, n_epoch, batch_idx, len(train_loader), a_D_l/100, a_G_l/100, a_D_rs/100, a_D_fs/100))\n",
    "            \n",
    "            a_D_l, a_G_l, a_D_rs, a_D_fs = 0., 0., 0., 0.\n",
    "    \n",
    "    # save models\n",
    "    torch.save(G.state_dict(), './models/fc4/G.pth')\n",
    "    torch.save(D.state_dict(), './models/fc4/D.pth')\n",
    "    \n",
    "    # save fake images\n",
    "    with torch.no_grad():\n",
    "        generated = G(fixed_noise)\n",
    "        save_image(generated.view(generated.size(0), 1, 28, 28), './samples/fc4_samples/sample_%03d.png' % epoch, 10)"
   ]
  },
  {
   "cell_type": "code",
   "execution_count": 14,
   "metadata": {},
   "outputs": [
    {
     "data": {
      "image/png": "[encoded data removed]",
      "text/plain": [
       "<Figure size 432x288 with 1 Axes>"
      ]
     },
     "metadata": {
      "needs_background": "light"
     },
     "output_type": "display_data"
    },
    {
     "data": {
      "image/png": "[encoded data removed]",
      "text/plain": [
       "<Figure size 432x288 with 1 Axes>"
      ]
     },
     "metadata": {
      "needs_background": "light"
     },
     "output_type": "display_data"
    }
   ],
   "source": [
    "plt.figure()\n",
    "plt.plot(D_losses, label='d loss')\n",
    "plt.plot(G_losses, label='g loss')    \n",
    "plt.legend()\n",
    "plt.savefig('loss_fc4.png')\n",
    "plt.show()\n",
    "\n",
    "plt.figure()\n",
    "plt.plot(fake_scores, label='fake score')\n",
    "plt.plot(real_scores, label='real score')    \n",
    "plt.legend()\n",
    "plt.savefig('score_fc4.png')\n",
    "plt.show()"
   ]
  },
  {
   "cell_type": "code",
   "execution_count": null,
   "metadata": {},
   "outputs": [],
   "source": []
  }
 ],
 "metadata": {
  "kernelspec": {
   "display_name": "Python 3",
   "language": "python",
   "name": "python3"
  },
  "language_info": {
   "codemirror_mode": {
    "name": "ipython",
    "version": 3
   },
   "file_extension": ".py",
   "mimetype": "text/x-python",
   "name": "python",
   "nbconvert_exporter": "python",
   "pygments_lexer": "ipython3",
   "version": "3.6.2"
  }
 },
 "nbformat": 4,
 "nbformat_minor": 2
}
