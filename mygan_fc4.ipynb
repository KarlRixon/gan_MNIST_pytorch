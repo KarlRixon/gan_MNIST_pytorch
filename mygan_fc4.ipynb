{
 "cells": [
  {
   "cell_type": "code",
   "execution_count": 1,
   "metadata": {},
   "outputs": [],
   "source": [
    "import torch\n",
    "import torch.nn as nn\n",
    "import torch.nn.functional as F\n",
    "import torch.optim as optim\n",
    "import torchvision\n",
    "from torchvision import datasets, transforms\n",
    "from torch.autograd import Variable\n",
    "from torchvision.utils import save_image\n",
    "import numpy as np\n",
    "import matplotlib.pyplot as plt\n",
    "from matplotlib.pyplot import imshow, imsave\n",
    "%matplotlib inline\n",
    "\n",
    "device = torch.device('cuda' if torch.cuda.is_available() else 'cpu')"
   ]
  },
  {
   "cell_type": "code",
   "execution_count": 2,
   "metadata": {},
   "outputs": [],
   "source": [
    "bs = 100\n",
    "\n",
    "transform = transforms.Compose([\n",
    "    transforms.ToTensor(),\n",
    "    transforms.Normalize(mean=[0.5], std=[0.5])\n",
    "])\n",
    "\n",
    "train_dataset = datasets.MNIST(root='../data/', train=True, transform=transform, download=True)\n",
    "\n",
    "train_loader = torch.utils.data.DataLoader(dataset=train_dataset, batch_size=bs, shuffle=True)"
   ]
  },
  {
   "cell_type": "code",
   "execution_count": 3,
   "metadata": {},
   "outputs": [],
   "source": [
    "class Generator(nn.Module):\n",
    "    def __init__(self, g_input_dim, g_output_dim):\n",
    "        super(Generator, self).__init__()\n",
    "        self.fc1 = nn.Linear(g_input_dim, 256)\n",
    "        self.fc2 = nn.Linear(self.fc1.out_features, self.fc1.out_features*2)\n",
    "        self.fc3 = nn.Linear(self.fc2.out_features, self.fc2.out_features*2)\n",
    "        self.fc4 = nn.Linear(self.fc3.out_features, g_output_dim)\n",
    "        \n",
    "    def forward(self, x):\n",
    "        x = F.leaky_relu(self.fc1(x), 0.2)\n",
    "        x = F.leaky_relu(self.fc2(x), 0.2)\n",
    "        x = F.leaky_relu(self.fc3(x), 0.2)\n",
    "        return torch.tanh(self.fc4(x))\n",
    "    \n",
    "class Discriminator(nn.Module):\n",
    "    def __init__(self, d_input_dim):\n",
    "        super(Discriminator, self).__init__()\n",
    "        self.fc1 = nn.Linear(d_input_dim, 1024)\n",
    "        self.fc2 = nn.Linear(self.fc1.out_features, self.fc1.out_features//2)\n",
    "        self.fc3 = nn.Linear(self.fc2.out_features, self.fc2.out_features//2)\n",
    "        self.fc4 = nn.Linear(self.fc3.out_features, 1)\n",
    "        \n",
    "    def forward(self, x):\n",
    "        x = F.leaky_relu(self.fc1(x), 0.2)\n",
    "        x = F.dropout(x, 0.3)\n",
    "        x = F.leaky_relu(self.fc2(x), 0.2)\n",
    "        x = F.dropout(x, 0.3)\n",
    "        x = F.leaky_relu(self.fc3(x), 0.2)\n",
    "        x = F.dropout(x, 0.3)\n",
    "        return torch.sigmoid(self.fc4(x))"
   ]
  },
  {
   "cell_type": "code",
   "execution_count": 4,
   "metadata": {},
   "outputs": [
    {
     "name": "stderr",
     "output_type": "stream",
     "text": [
      "D:\\anaconda\\envs\\tensorflow-gpu\\lib\\site-packages\\torchvision\\datasets\\mnist.py:53: UserWarning: train_data has been renamed data\n",
      "  warnings.warn(\"train_data has been renamed data\")\n"
     ]
    }
   ],
   "source": [
    "z_dim = 100\n",
    "mnist_dim = train_dataset.train_data.size(1)*train_dataset.train_data.size(2)\n",
    "\n",
    "G = Generator(g_input_dim=z_dim, g_output_dim=mnist_dim).to(device)\n",
    "D = Discriminator(mnist_dim).to(device)"
   ]
  },
  {
   "cell_type": "code",
   "execution_count": 5,
   "metadata": {
    "scrolled": true
   },
   "outputs": [
    {
     "data": {
      "text/plain": [
       "Generator(\n",
       "  (fc1): Linear(in_features=100, out_features=256, bias=True)\n",
       "  (fc2): Linear(in_features=256, out_features=512, bias=True)\n",
       "  (fc3): Linear(in_features=512, out_features=1024, bias=True)\n",
       "  (fc4): Linear(in_features=1024, out_features=784, bias=True)\n",
       ")"
      ]
     },
     "execution_count": 5,
     "metadata": {},
     "output_type": "execute_result"
    }
   ],
   "source": [
    "G"
   ]
  },
  {
   "cell_type": "code",
   "execution_count": 6,
   "metadata": {
    "scrolled": true
   },
   "outputs": [
    {
     "data": {
      "text/plain": [
       "Discriminator(\n",
       "  (fc1): Linear(in_features=784, out_features=1024, bias=True)\n",
       "  (fc2): Linear(in_features=1024, out_features=512, bias=True)\n",
       "  (fc3): Linear(in_features=512, out_features=256, bias=True)\n",
       "  (fc4): Linear(in_features=256, out_features=1, bias=True)\n",
       ")"
      ]
     },
     "execution_count": 6,
     "metadata": {},
     "output_type": "execute_result"
    }
   ],
   "source": [
    "D"
   ]
  },
  {
   "cell_type": "code",
   "execution_count": 7,
   "metadata": {},
   "outputs": [],
   "source": [
    "# loss\n",
    "criterion = nn.BCELoss()\n",
    "\n",
    "# optimizer\n",
    "lr = 0.001\n",
    "G_optimizer = optim.Adam(G.parameters(), lr=lr, betas=(0.5, 0.999))\n",
    "D_optimizer = optim.Adam(D.parameters(), lr=lr, betas=(0.5, 0.999))"
   ]
  },
  {
   "cell_type": "code",
   "execution_count": 8,
   "metadata": {},
   "outputs": [],
   "source": [
    "def D_train(x):\n",
    "    D.zero_grad()\n",
    "    \n",
    "    # train discriminator on real\n",
    "    x_real, y_real = x.view(-1, mnist_dim), torch.ones(bs, 1)\n",
    "    x_real, y_real = Variable(x_real.to(device)), Variable(y_real.to(device))\n",
    "    \n",
    "    D_output = D(x_real)\n",
    "    D_real_loss = criterion(D_output, y_real)\n",
    "    D_real_score = D_output\n",
    "    \n",
    "    # train discriminator on fake\n",
    "    z = Variable(torch.randn(bs, z_dim).to(device))\n",
    "    x_fake, y_fake = G(z), Variable(torch.zeros(bs, 1).to(device))\n",
    "    \n",
    "    D_output = D(x_fake)\n",
    "    D_fake_loss = criterion(D_output, y_fake)\n",
    "    D_fake_score = D_output\n",
    "    \n",
    "    # gradient backprop & optimize ONLY D's parameters\n",
    "    D_loss = D_real_loss + D_fake_loss\n",
    "    D_loss.backward()\n",
    "    D_optimizer.step()\n",
    "    \n",
    "    return D_loss.data.item(), torch.mean(D_real_score).data.item(), torch.mean(D_fake_score).data.item()"
   ]
  },
  {
   "cell_type": "code",
   "execution_count": 9,
   "metadata": {},
   "outputs": [],
   "source": [
    "def G_train(x):\n",
    "    G.zero_grad()\n",
    "    \n",
    "    z = Variable(torch.randn(bs, z_dim).to(device))\n",
    "    y = Variable(torch.ones(bs, 1).to(device))\n",
    "    \n",
    "    G_output = G(z)\n",
    "    D_output = D(G_output)\n",
    "    G_loss = criterion(D_output, y)\n",
    "    \n",
    "    # gradient backprop & optimize ONLY G's parameters\n",
    "    G_loss.backward()\n",
    "    G_optimizer.step()\n",
    "    \n",
    "    return G_loss.data.item()"
   ]
  },
  {
   "cell_type": "code",
   "execution_count": 10,
   "metadata": {},
   "outputs": [],
   "source": [
    "# # set up tensorboard\n",
    "# from torch.utils.tensorboard import SummaryWriter\n",
    "\n",
    "# # default `log_dir` is \"runs\" - we'll be more specific here\n",
    "# writer = SummaryWriter('runs/mnist')\n",
    "\n",
    "# # writing to tensorboard\n",
    "# # get some random training images\n",
    "# dataiter = iter(train_loader)\n",
    "# images, labels = dataiter.next()\n",
    "\n",
    "# # create grid of images\n",
    "# img_grid = torchvision.utils.make_grid(images, 10)\n",
    "\n",
    "# # write to tensorboard\n",
    "# writer.add_image('mnist_images', img_grid)\n",
    "\n",
    "# # show images\n",
    "# img_grid = img_grid.mean(dim=0)\n",
    "# img_grid = img_grid / 2 + 0.5     # unnormalize\n",
    "# npimg = img_grid.numpy()\n",
    "# plt.imshow(npimg, cmap=\"Greys\")\n",
    "\n",
    "# # tensorboard --logdir=runs --port=6006 --host=localhost\n",
    "# # Inspect the model using TensorBoard\n",
    "# writer.add_graph(Discriminator(784), images)\n",
    "# writer.add_graph(Generator(100, 784), images)\n",
    "# writer.close()"
   ]
  },
  {
   "cell_type": "code",
   "execution_count": 11,
   "metadata": {},
   "outputs": [],
   "source": [
    "# Adding a “Projector” to TensorBoard\n",
    "# def select_n_random(data, labels, n=100):\n",
    "#     assert len(data) == len(labels)\n",
    "#     perm = torch.randperm(len(data))\n",
    "#     return data[perm][:n], labels[perm][:n]\n",
    "\n",
    "# # select random images and their target indices\n",
    "# images, labels = select_n_random(train_dataset.data, train_dataset.targets)\n",
    "\n",
    "# # get the class labels for each image\n",
    "# # constant for classes\n",
    "# classes = ('0', '1', '2', '3', '4', '5', '6', '7', '8', '9')\n",
    "# class_labels = [classes[lab] for lab in labels]\n",
    "\n",
    "# # log embeddings\n",
    "# features = images.view(-1, 28 * 28)\n",
    "# writer.add_embedding(features,\n",
    "#                     metadata=class_labels,\n",
    "#                     label_img=images.unsqueeze(1))\n",
    "# writer.close()"
   ]
  },
  {
   "cell_type": "code",
   "execution_count": 12,
   "metadata": {},
   "outputs": [],
   "source": [
    "n_epoch = 20\n",
    "D_losses, G_losses = [], []\n",
    "real_scores, fake_scores = [], []\n",
    "a_D_l, a_G_l, a_D_rs, a_D_fs = 0., 0., 0., 0.\n",
    "fixed_noise = Variable(torch.randn(bs, z_dim).to(device))"
   ]
  },
  {
   "cell_type": "code",
   "execution_count": 13,
   "metadata": {
    "scrolled": false
   },
   "outputs": [
    {
     "name": "stdout",
     "output_type": "stream",
     "text": [
      "epoch[1/20][99/600]: loss_d: 1.410, loss_g: 0.724, D(x): 0.583, D(G(z)): 0.550\n",
      "epoch[1/20][199/600]: loss_d: 1.394, loss_g: 0.849, D(x): 0.571, D(G(z)): 0.526\n",
      "epoch[1/20][299/600]: loss_d: 1.367, loss_g: 1.346, D(x): 0.589, D(G(z)): 0.472\n",
      "epoch[1/20][399/600]: loss_d: 1.284, loss_g: 0.911, D(x): 0.610, D(G(z)): 0.509\n",
      "epoch[1/20][499/600]: loss_d: 1.334, loss_g: 0.786, D(x): 0.577, D(G(z)): 0.501\n",
      "epoch[1/20][599/600]: loss_d: 1.292, loss_g: 0.811, D(x): 0.567, D(G(z)): 0.483\n",
      "epoch[2/20][99/600]: loss_d: 1.294, loss_g: 0.852, D(x): 0.568, D(G(z)): 0.478\n",
      "epoch[2/20][199/600]: loss_d: 1.306, loss_g: 0.881, D(x): 0.563, D(G(z)): 0.471\n",
      "epoch[2/20][299/600]: loss_d: 1.306, loss_g: 0.841, D(x): 0.554, D(G(z)): 0.475\n",
      "epoch[2/20][399/600]: loss_d: 1.314, loss_g: 0.873, D(x): 0.556, D(G(z)): 0.475\n",
      "epoch[2/20][499/600]: loss_d: 1.308, loss_g: 0.871, D(x): 0.550, D(G(z)): 0.465\n",
      "epoch[2/20][599/600]: loss_d: 1.255, loss_g: 0.971, D(x): 0.577, D(G(z)): 0.443\n",
      "epoch[3/20][99/600]: loss_d: 1.294, loss_g: 0.941, D(x): 0.561, D(G(z)): 0.453\n",
      "epoch[3/20][199/600]: loss_d: 1.271, loss_g: 0.932, D(x): 0.567, D(G(z)): 0.455\n",
      "epoch[3/20][299/600]: loss_d: 1.258, loss_g: 1.001, D(x): 0.575, D(G(z)): 0.440\n",
      "epoch[3/20][399/600]: loss_d: 1.270, loss_g: 0.951, D(x): 0.568, D(G(z)): 0.449\n",
      "epoch[3/20][499/600]: loss_d: 1.280, loss_g: 0.946, D(x): 0.566, D(G(z)): 0.446\n",
      "epoch[3/20][599/600]: loss_d: 1.243, loss_g: 1.038, D(x): 0.581, D(G(z)): 0.431\n",
      "epoch[4/20][99/600]: loss_d: 1.289, loss_g: 1.032, D(x): 0.565, D(G(z)): 0.431\n",
      "epoch[4/20][199/600]: loss_d: 1.237, loss_g: 1.044, D(x): 0.580, D(G(z)): 0.429\n",
      "epoch[4/20][299/600]: loss_d: 1.244, loss_g: 1.043, D(x): 0.581, D(G(z)): 0.424\n",
      "epoch[4/20][399/600]: loss_d: 1.231, loss_g: 1.023, D(x): 0.586, D(G(z)): 0.426\n",
      "epoch[4/20][499/600]: loss_d: 1.187, loss_g: 1.107, D(x): 0.598, D(G(z)): 0.406\n",
      "epoch[4/20][599/600]: loss_d: 1.217, loss_g: 1.056, D(x): 0.591, D(G(z)): 0.421\n",
      "epoch[5/20][99/600]: loss_d: 1.279, loss_g: 0.983, D(x): 0.565, D(G(z)): 0.433\n",
      "epoch[5/20][199/600]: loss_d: 1.240, loss_g: 1.011, D(x): 0.579, D(G(z)): 0.426\n",
      "epoch[5/20][299/600]: loss_d: 1.224, loss_g: 1.018, D(x): 0.583, D(G(z)): 0.424\n",
      "epoch[5/20][399/600]: loss_d: 1.235, loss_g: 1.001, D(x): 0.577, D(G(z)): 0.428\n",
      "epoch[5/20][499/600]: loss_d: 1.250, loss_g: 0.978, D(x): 0.576, D(G(z)): 0.434\n",
      "epoch[5/20][599/600]: loss_d: 1.238, loss_g: 1.006, D(x): 0.577, D(G(z)): 0.427\n",
      "epoch[6/20][99/600]: loss_d: 1.251, loss_g: 0.988, D(x): 0.572, D(G(z)): 0.432\n",
      "epoch[6/20][199/600]: loss_d: 1.239, loss_g: 1.013, D(x): 0.577, D(G(z)): 0.425\n",
      "epoch[6/20][299/600]: loss_d: 1.243, loss_g: 0.974, D(x): 0.573, D(G(z)): 0.433\n",
      "epoch[6/20][399/600]: loss_d: 1.245, loss_g: 0.988, D(x): 0.572, D(G(z)): 0.431\n",
      "epoch[6/20][499/600]: loss_d: 1.248, loss_g: 0.973, D(x): 0.573, D(G(z)): 0.434\n",
      "epoch[6/20][599/600]: loss_d: 1.272, loss_g: 0.961, D(x): 0.561, D(G(z)): 0.435\n",
      "epoch[7/20][99/600]: loss_d: 1.266, loss_g: 0.957, D(x): 0.565, D(G(z)): 0.440\n",
      "epoch[7/20][199/600]: loss_d: 1.231, loss_g: 1.012, D(x): 0.577, D(G(z)): 0.425\n",
      "epoch[7/20][299/600]: loss_d: 1.257, loss_g: 0.964, D(x): 0.571, D(G(z)): 0.435\n",
      "epoch[7/20][399/600]: loss_d: 1.241, loss_g: 0.995, D(x): 0.577, D(G(z)): 0.427\n",
      "epoch[7/20][499/600]: loss_d: 1.229, loss_g: 1.027, D(x): 0.583, D(G(z)): 0.420\n",
      "epoch[7/20][599/600]: loss_d: 1.248, loss_g: 0.995, D(x): 0.577, D(G(z)): 0.428\n",
      "epoch[8/20][99/600]: loss_d: 1.222, loss_g: 1.015, D(x): 0.583, D(G(z)): 0.421\n",
      "epoch[8/20][199/600]: loss_d: 1.234, loss_g: 1.008, D(x): 0.579, D(G(z)): 0.424\n",
      "epoch[8/20][299/600]: loss_d: 1.247, loss_g: 0.995, D(x): 0.576, D(G(z)): 0.428\n",
      "epoch[8/20][399/600]: loss_d: 1.229, loss_g: 1.008, D(x): 0.581, D(G(z)): 0.421\n",
      "epoch[8/20][499/600]: loss_d: 1.244, loss_g: 1.018, D(x): 0.578, D(G(z)): 0.423\n",
      "epoch[8/20][599/600]: loss_d: 1.204, loss_g: 1.049, D(x): 0.594, D(G(z)): 0.412\n",
      "epoch[9/20][99/600]: loss_d: 1.249, loss_g: 1.063, D(x): 0.591, D(G(z)): 0.415\n",
      "epoch[9/20][199/600]: loss_d: 1.238, loss_g: 0.969, D(x): 0.575, D(G(z)): 0.430\n",
      "epoch[9/20][299/600]: loss_d: 1.170, loss_g: 1.100, D(x): 0.606, D(G(z)): 0.401\n",
      "epoch[9/20][399/600]: loss_d: 1.176, loss_g: 1.134, D(x): 0.609, D(G(z)): 0.392\n",
      "epoch[9/20][499/600]: loss_d: 1.188, loss_g: 1.093, D(x): 0.606, D(G(z)): 0.401\n",
      "epoch[9/20][599/600]: loss_d: 1.137, loss_g: 1.157, D(x): 0.621, D(G(z)): 0.382\n",
      "epoch[10/20][99/600]: loss_d: 1.130, loss_g: 1.196, D(x): 0.629, D(G(z)): 0.377\n",
      "epoch[10/20][199/600]: loss_d: 1.120, loss_g: 1.210, D(x): 0.633, D(G(z)): 0.371\n",
      "epoch[10/20][299/600]: loss_d: 1.072, loss_g: 1.286, D(x): 0.650, D(G(z)): 0.355\n",
      "epoch[10/20][399/600]: loss_d: 1.052, loss_g: 1.340, D(x): 0.661, D(G(z)): 0.345\n",
      "epoch[10/20][499/600]: loss_d: 1.025, loss_g: 1.415, D(x): 0.677, D(G(z)): 0.333\n",
      "epoch[10/20][599/600]: loss_d: 0.989, loss_g: 1.484, D(x): 0.690, D(G(z)): 0.318\n",
      "epoch[11/20][99/600]: loss_d: 0.981, loss_g: 1.538, D(x): 0.695, D(G(z)): 0.309\n",
      "epoch[11/20][199/600]: loss_d: 0.889, loss_g: 1.641, D(x): 0.720, D(G(z)): 0.289\n",
      "epoch[11/20][299/600]: loss_d: 0.871, loss_g: 1.724, D(x): 0.733, D(G(z)): 0.277\n",
      "epoch[11/20][399/600]: loss_d: 0.879, loss_g: 1.732, D(x): 0.728, D(G(z)): 0.273\n",
      "epoch[11/20][499/600]: loss_d: 0.800, loss_g: 1.891, D(x): 0.755, D(G(z)): 0.253\n",
      "epoch[11/20][599/600]: loss_d: 0.686, loss_g: 2.155, D(x): 0.791, D(G(z)): 0.214\n",
      "epoch[12/20][99/600]: loss_d: 0.675, loss_g: 2.321, D(x): 0.804, D(G(z)): 0.202\n",
      "epoch[12/20][199/600]: loss_d: 0.669, loss_g: 2.294, D(x): 0.807, D(G(z)): 0.200\n",
      "epoch[12/20][299/600]: loss_d: 0.689, loss_g: 2.391, D(x): 0.805, D(G(z)): 0.199\n",
      "epoch[12/20][399/600]: loss_d: 0.631, loss_g: 2.465, D(x): 0.819, D(G(z)): 0.185\n",
      "epoch[12/20][499/600]: loss_d: 0.567, loss_g: 2.659, D(x): 0.837, D(G(z)): 0.166\n",
      "epoch[12/20][599/600]: loss_d: 0.587, loss_g: 2.627, D(x): 0.838, D(G(z)): 0.167\n",
      "epoch[13/20][99/600]: loss_d: 0.500, loss_g: 2.851, D(x): 0.853, D(G(z)): 0.148\n",
      "epoch[13/20][199/600]: loss_d: 0.563, loss_g: 2.836, D(x): 0.846, D(G(z)): 0.160\n",
      "epoch[13/20][299/600]: loss_d: 0.579, loss_g: 2.860, D(x): 0.841, D(G(z)): 0.155\n",
      "epoch[13/20][399/600]: loss_d: 0.489, loss_g: 3.024, D(x): 0.865, D(G(z)): 0.142\n",
      "epoch[13/20][499/600]: loss_d: 0.569, loss_g: 3.063, D(x): 0.859, D(G(z)): 0.148\n",
      "epoch[13/20][599/600]: loss_d: 0.462, loss_g: 3.165, D(x): 0.877, D(G(z)): 0.125\n",
      "epoch[14/20][99/600]: loss_d: 0.402, loss_g: 3.285, D(x): 0.885, D(G(z)): 0.115\n",
      "epoch[14/20][199/600]: loss_d: 0.459, loss_g: 3.150, D(x): 0.878, D(G(z)): 0.129\n",
      "epoch[14/20][299/600]: loss_d: 0.438, loss_g: 3.419, D(x): 0.882, D(G(z)): 0.116\n",
      "epoch[14/20][399/600]: loss_d: 0.381, loss_g: 3.395, D(x): 0.896, D(G(z)): 0.108\n",
      "epoch[14/20][499/600]: loss_d: 0.373, loss_g: 3.455, D(x): 0.898, D(G(z)): 0.105\n",
      "epoch[14/20][599/600]: loss_d: 0.326, loss_g: 3.845, D(x): 0.909, D(G(z)): 0.092\n",
      "epoch[15/20][99/600]: loss_d: 0.333, loss_g: 3.811, D(x): 0.911, D(G(z)): 0.092\n",
      "epoch[15/20][199/600]: loss_d: 0.356, loss_g: 3.632, D(x): 0.905, D(G(z)): 0.098\n",
      "epoch[15/20][299/600]: loss_d: 0.335, loss_g: 3.967, D(x): 0.910, D(G(z)): 0.087\n",
      "epoch[15/20][399/600]: loss_d: 0.296, loss_g: 3.828, D(x): 0.916, D(G(z)): 0.089\n",
      "epoch[15/20][499/600]: loss_d: 0.284, loss_g: 4.056, D(x): 0.921, D(G(z)): 0.079\n",
      "epoch[15/20][599/600]: loss_d: 0.760, loss_g: 3.533, D(x): 0.842, D(G(z)): 0.160\n",
      "epoch[16/20][99/600]: loss_d: 0.299, loss_g: 4.073, D(x): 0.912, D(G(z)): 0.092\n",
      "epoch[16/20][199/600]: loss_d: 0.373, loss_g: 4.379, D(x): 0.908, D(G(z)): 0.090\n",
      "epoch[16/20][299/600]: loss_d: 0.393, loss_g: 4.129, D(x): 0.907, D(G(z)): 0.097\n",
      "epoch[16/20][399/600]: loss_d: 0.221, loss_g: 4.361, D(x): 0.937, D(G(z)): 0.063\n",
      "epoch[16/20][499/600]: loss_d: 0.231, loss_g: 4.619, D(x): 0.938, D(G(z)): 0.061\n",
      "epoch[16/20][599/600]: loss_d: 0.498, loss_g: 3.933, D(x): 0.896, D(G(z)): 0.108\n",
      "epoch[17/20][99/600]: loss_d: 0.256, loss_g: 4.359, D(x): 0.927, D(G(z)): 0.072\n",
      "epoch[17/20][199/600]: loss_d: 0.261, loss_g: 4.415, D(x): 0.931, D(G(z)): 0.070\n",
      "epoch[17/20][299/600]: loss_d: 0.286, loss_g: 4.502, D(x): 0.926, D(G(z)): 0.075\n",
      "epoch[17/20][399/600]: loss_d: 0.226, loss_g: 4.464, D(x): 0.939, D(G(z)): 0.063\n",
      "epoch[17/20][499/600]: loss_d: 0.329, loss_g: 4.008, D(x): 0.917, D(G(z)): 0.082\n",
      "epoch[17/20][599/600]: loss_d: 0.243, loss_g: 4.189, D(x): 0.934, D(G(z)): 0.070\n",
      "epoch[18/20][99/600]: loss_d: 0.235, loss_g: 4.565, D(x): 0.936, D(G(z)): 0.064\n"
     ]
    },
    {
     "name": "stdout",
     "output_type": "stream",
     "text": [
      "epoch[18/20][199/600]: loss_d: 0.239, loss_g: 4.583, D(x): 0.934, D(G(z)): 0.065\n",
      "epoch[18/20][299/600]: loss_d: 0.224, loss_g: 4.673, D(x): 0.941, D(G(z)): 0.061\n",
      "epoch[18/20][399/600]: loss_d: 0.740, loss_g: 3.931, D(x): 0.876, D(G(z)): 0.135\n",
      "epoch[18/20][499/600]: loss_d: 0.467, loss_g: 3.704, D(x): 0.892, D(G(z)): 0.108\n",
      "epoch[18/20][599/600]: loss_d: 0.304, loss_g: 4.038, D(x): 0.923, D(G(z)): 0.079\n",
      "epoch[19/20][99/600]: loss_d: 0.285, loss_g: 4.254, D(x): 0.925, D(G(z)): 0.073\n",
      "epoch[19/20][199/600]: loss_d: 0.316, loss_g: 3.900, D(x): 0.921, D(G(z)): 0.083\n",
      "epoch[19/20][299/600]: loss_d: 0.466, loss_g: 3.867, D(x): 0.901, D(G(z)): 0.105\n",
      "epoch[19/20][399/600]: loss_d: 0.528, loss_g: 4.014, D(x): 0.903, D(G(z)): 0.100\n",
      "epoch[19/20][499/600]: loss_d: 0.324, loss_g: 4.065, D(x): 0.912, D(G(z)): 0.089\n",
      "epoch[19/20][599/600]: loss_d: 0.214, loss_g: 4.498, D(x): 0.940, D(G(z)): 0.061\n",
      "epoch[20/20][99/600]: loss_d: 0.249, loss_g: 4.620, D(x): 0.934, D(G(z)): 0.066\n",
      "epoch[20/20][199/600]: loss_d: 0.234, loss_g: 4.789, D(x): 0.939, D(G(z)): 0.057\n",
      "epoch[20/20][299/600]: loss_d: 0.170, loss_g: 4.711, D(x): 0.951, D(G(z)): 0.054\n",
      "epoch[20/20][399/600]: loss_d: 0.373, loss_g: 4.388, D(x): 0.918, D(G(z)): 0.085\n",
      "epoch[20/20][499/600]: loss_d: 0.181, loss_g: 4.741, D(x): 0.951, D(G(z)): 0.051\n",
      "epoch[20/20][599/600]: loss_d: 0.198, loss_g: 5.081, D(x): 0.946, D(G(z)): 0.054\n"
     ]
    }
   ],
   "source": [
    "for epoch in range(1, n_epoch+1):\n",
    "    for batch_idx, (x, _) in enumerate(train_loader):\n",
    "        D_l, D_rs, D_fs = D_train(x)\n",
    "        G_l = G_train(x)\n",
    "        \n",
    "        a_D_l += D_l\n",
    "        a_G_l += G_l\n",
    "        a_D_rs += D_rs\n",
    "        a_D_fs += D_fs\n",
    "        if batch_idx % 100 == 99:\n",
    "            D_losses.append(a_D_l/100)\n",
    "            G_losses.append(a_G_l/100)\n",
    "            real_scores.append(a_D_rs/100)\n",
    "            fake_scores.append(a_D_fs/100)\n",
    "\n",
    "            # ...log the running loss\n",
    "#             writer.add_scalar('D loss',\n",
    "#                             a_D_l / 100,\n",
    "#                             epoch * len(train_loader) + batch_idx)\n",
    "#             writer.add_scalar('G loss',\n",
    "#                             a_G_l / 100,\n",
    "#                             epoch * len(train_loader) + batch_idx)\n",
    "\n",
    "            print('epoch[%d/%d][%d/%d]: loss_d: %.3f, loss_g: %.3f, D(x): %.3f, D(G(z)): %.3f' % \n",
    "                 (epoch, n_epoch, batch_idx, len(train_loader), a_D_l/100, a_G_l/100, a_D_rs/100, a_D_fs/100))\n",
    "            \n",
    "            a_D_l, a_G_l, a_D_rs, a_D_fs = 0., 0., 0., 0.\n",
    "    \n",
    "    # save models\n",
    "    torch.save(G.state_dict(), './models/fc4/G.pth')\n",
    "    torch.save(D.state_dict(), './models/fc4/D.pth')\n",
    "    \n",
    "    # save fake images\n",
    "    with torch.no_grad():\n",
    "        generated = G(fixed_noise)\n",
    "        save_image(generated.view(generated.size(0), 1, 28, 28), './samples/fc4_samples/sample_%03d.png' % epoch, 10)"
   ]
  },
  {
   "cell_type": "code",
   "execution_count": 14,
   "metadata": {},
   "outputs": [
    {
     "data": {
      "image/png": "[encoded data removed]",
      "text/plain": [
       "<Figure size 432x288 with 1 Axes>"
      ]
     },
     "metadata": {
      "needs_background": "light"
     },
     "output_type": "display_data"
    },
    {
     "data": {
      "image/png": "[encoded data removed]",
      "text/plain": [
       "<Figure size 432x288 with 1 Axes>"
      ]
     },
     "metadata": {
      "needs_background": "light"
     },
     "output_type": "display_data"
    }
   ],
   "source": [
    "plt.figure()\n",
    "plt.plot(D_losses, label='d loss')\n",
    "plt.plot(G_losses, label='g loss')    \n",
    "plt.legend()\n",
    "plt.savefig('loss_fc4.png')\n",
    "plt.show()\n",
    "\n",
    "plt.figure()\n",
    "plt.plot(fake_scores, label='fake score')\n",
    "plt.plot(real_scores, label='real score')    \n",
    "plt.legend()\n",
    "plt.savefig('score_fc4.png')\n",
    "plt.show()"
   ]
  },
  {
   "cell_type": "code",
   "execution_count": null,
   "metadata": {},
   "outputs": [],
   "source": []
  }
 ],
 "metadata": {
  "kernelspec": {
   "display_name": "Python 3",
   "language": "python",
   "name": "python3"
  },
  "language_info": {
   "codemirror_mode": {
    "name": "ipython",
    "version": 3
   },
   "file_extension": ".py",
   "mimetype": "text/x-python",
   "name": "python",
   "nbconvert_exporter": "python",
   "pygments_lexer": "ipython3",
   "version": "3.6.2"
  }
 },
 "nbformat": 4,
 "nbformat_minor": 2
}
